{
 "cells": [
  {
   "cell_type": "code",
   "execution_count": 1,
   "metadata": {},
   "outputs": [],
   "source": [
    "import re\n",
    "\n",
    "def process_corpus(corpus):\n",
    "    chapters = []\n",
    "    current_chapter = []\n",
    "    \n",
    "    for line in corpus.splitlines():\n",
    "        line = line.strip()  # 去除行首尾空白字符\n",
    "        if not line:  # 如果是空行，跳过\n",
    "            continue\n",
    "        \n",
    "        # 检查是否是新篇章的开始\n",
    "        if line.startswith(\"译文：\") or (len(current_chapter) == 1 and \"卷\" in current_chapter[0]):\n",
    "            if current_chapter:  # 如果当前篇章不为空，保存当前篇章\n",
    "                chapters.append(\"\\n\".join(current_chapter))\n",
    "                current_chapter = []  # 重置当前篇章\n",
    "        \n",
    "        if line.startswith(\"译文\"):\n",
    "            continue\n",
    "        else:\n",
    "            current_chapter.append(line)  # 添加当前行到当前篇章\n",
    "\n",
    "    # 添加最后一个篇章（如果有）\n",
    "    if current_chapter:\n",
    "        chapters.append(\"\\n\".join(current_chapter))\n",
    "    \n",
    "    return chapters\n",
    "\n",
    "def split_into_sentences(chapter):\n",
    "    # 使用正则表达式拆分句子\n",
    "    sentences = re.split(r'(?<=[。！？])\\s*|(?<=：)\\s*', chapter)\n",
    "    return [sentence.strip() for sentence in sentences if sentence.strip()]  # 去除空句子\n",
    "\n",
    "def process_and_number_sentences(corpus):\n",
    "    chapters = process_corpus(corpus)\n",
    "    numbered_sentences = []\n",
    "\n",
    "    for i, chapter in enumerate(chapters):\n",
    "        sentences = split_into_sentences(chapter)\n",
    "        numbered_sentences.append([(j, sentence) for j, sentence in enumerate(sentences)])\n",
    "\n",
    "    return numbered_sentences"
   ]
  },
  {
   "cell_type": "code",
   "execution_count": null,
   "metadata": {},
   "outputs": [],
   "source": [
    "# 从文件中读取语料\n",
    "def read_corpus_from_file(file_path):\n",
    "    with open(file_path, 'r', encoding='utf-8') as file:\n",
    "        return file.read()\n",
    "\n",
    "# 将结果写入文件\n",
    "def write_results_to_file(numbered_sentences, output_file_path):\n",
    "    with open(output_file_path, 'w+', encoding='utf-8') as file:\n",
    "        for chapter_index, sentences in enumerate(numbered_sentences):\n",
    "            file.write(f\"篇章 {chapter_index + 1}:\\n\")\n",
    "            for sentence_index, sentence in sentences:\n",
    "                file.write(f\"{sentence_index}: {sentence.replace(\"”\",\"\").replace(\"\\n\",\"\")}\\n\")\n",
    "            file.write(\"\\n\\n\")  # 每个篇章之间空一行\n",
    "\n",
    "# 示例文件路径\n",
    "input_file_path = '二十四史纯译文版.txt'\n",
    "output_file_path = 'processed_output.txt'\n",
    "\n",
    "# 读取语料并处理\n",
    "corpus = read_corpus_from_file(input_file_path)\n",
    "numbered_sentences = process_and_number_sentences(corpus)\n",
    "\n",
    "# 将结果写入文件\n",
    "write_results_to_file(numbered_sentences, output_file_path)"
   ]
  },
  {
   "cell_type": "code",
   "execution_count": null,
   "metadata": {},
   "outputs": [],
   "source": []
  }
 ],
 "metadata": {
  "kernelspec": {
   "display_name": "base",
   "language": "python",
   "name": "python3"
  },
  "language_info": {
   "codemirror_mode": {
    "name": "ipython",
    "version": 3
   },
   "file_extension": ".py",
   "mimetype": "text/x-python",
   "name": "python",
   "nbconvert_exporter": "python",
   "pygments_lexer": "ipython3",
   "version": "3.12.7"
  }
 },
 "nbformat": 4,
 "nbformat_minor": 2
}
